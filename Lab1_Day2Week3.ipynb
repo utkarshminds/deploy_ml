{
  "cells": [
    {
      "cell_type": "code",
      "execution_count": 4,
      "metadata": {
        "id": "_ipbOJr8heOl"
      },
      "outputs": [
        {
          "ename": "ImportError",
          "evalue": "cannot import name 'ImageDataGenerator' from 'keras.preprocessing.image' (d:\\Python_Course\\DL\\day6-4hrs\\deploy_ml\\myenv\\lib\\site-packages\\keras\\preprocessing\\image\\__init__.py)",
          "output_type": "error",
          "traceback": [
            "\u001b[1;31m---------------------------------------------------------------------------\u001b[0m",
            "\u001b[1;31mImportError\u001b[0m                               Traceback (most recent call last)",
            "Cell \u001b[1;32mIn[4], line 8\u001b[0m\n\u001b[0;32m      6\u001b[0m \u001b[38;5;28;01mimport\u001b[39;00m \u001b[38;5;21;01mos\u001b[39;00m\n\u001b[0;32m      7\u001b[0m \u001b[38;5;28;01mfrom\u001b[39;00m \u001b[38;5;21;01mPIL\u001b[39;00m \u001b[38;5;28;01mimport\u001b[39;00m Image\n\u001b[1;32m----> 8\u001b[0m \u001b[38;5;28;01mfrom\u001b[39;00m \u001b[38;5;21;01mkeras\u001b[39;00m\u001b[38;5;21;01m.\u001b[39;00m\u001b[38;5;21;01mpreprocessing\u001b[39;00m\u001b[38;5;21;01m.\u001b[39;00m\u001b[38;5;21;01mimage\u001b[39;00m \u001b[38;5;28;01mimport\u001b[39;00m ImageDataGenerator, load_img, img_to_array\n",
            "\u001b[1;31mImportError\u001b[0m: cannot import name 'ImageDataGenerator' from 'keras.preprocessing.image' (d:\\Python_Course\\DL\\day6-4hrs\\deploy_ml\\myenv\\lib\\site-packages\\keras\\preprocessing\\image\\__init__.py)"
          ]
        }
      ],
      "source": [
        "import pandas\n",
        "import numpy\n",
        "import matplotlib.pyplot as plt\n",
        "import sklearn\n",
        "import keras\n",
        "import os\n",
        "from PIL import Image\n",
        "from keras.preprocessing.image import ImageDataGenerator, load_img, img_to_array"
      ]
    },
    {
      "cell_type": "code",
      "execution_count": null,
      "metadata": {
        "id": "irY4b11En_qB"
      },
      "outputs": [],
      "source": [
        "obj = ImageDataGenerator(\n",
        "    rotation_range=360,vertical_flip=True,horizontal_flip=True,zoom_range=0.3,width_shift_range=0.3,\n",
        "    height_shift_range=0.3,\n",
        "    shear_range=0.3\n",
        ")\n",
        "\n",
        "base_path_bachchan = '/content/bachchan'\n",
        "base_path_srk = '/content/srk'\n",
        "\n",
        "for path in [base_path_bachchan, base_path_srk]:\n",
        "    for filename in os.listdir(path):\n",
        "        if filename.endswith('.jpg'):\n",
        "            image_path = os.path.join(path, filename)\n",
        "            img=load_img(image_path, color_mode='rgb')\n",
        "            X = img_to_array(img)\n",
        "            X = numpy.expand_dims(X, axis=0)\n",
        "\n",
        "            i=0\n",
        "            for x in obj.flow(X, save_to_dir=path, save_format='jpg', save_prefix='aug_'):\n",
        "                i += 1\n",
        "                if i > 5:\n",
        "                 break"
      ]
    },
    {
      "cell_type": "code",
      "execution_count": null,
      "metadata": {
        "id": "pg9i1-cqr9bA"
      },
      "outputs": [],
      "source": [
        "base_path_bachchan = '/content/bachchan'\n",
        "base_path_srk = '/content/srk'\n",
        "X = []\n",
        "y = []\n",
        "\n",
        "for path in [base_path_bachchan, base_path_srk]:\n",
        "    for filename in os.listdir(path):\n",
        "        if filename.endswith('.jpg'):\n",
        "            image_path = os.path.join(path, filename)\n",
        "            img = Image.open(image_path)\n",
        "            if img.mode == 'RGB':\n",
        "                img_resized = img.resize((200,200), Image.LANCZOS)\n",
        "            else:\n",
        "                continue\n",
        "            X.append(img_resized)\n",
        "            y.append(path)\n"
      ]
    },
    {
      "cell_type": "code",
      "execution_count": null,
      "metadata": {
        "id": "aRYKqXFGtHFl"
      },
      "outputs": [],
      "source": [
        "image_array = []\n",
        "for img in X:\n",
        "    image_array.append(numpy.array(img))\n",
        "\n",
        "X = numpy.array(image_array)\n",
        "print(X.shape)\n",
        "print(len(y))"
      ]
    },
    {
      "cell_type": "code",
      "execution_count": null,
      "metadata": {
        "id": "sE6HDfdPtc_b"
      },
      "outputs": [],
      "source": [
        "from sklearn.preprocessing import LabelEncoder\n",
        "le = LabelEncoder()\n",
        "y = le.fit_transform(y)"
      ]
    },
    {
      "cell_type": "code",
      "execution_count": null,
      "metadata": {
        "id": "801Wzi_3tsJs"
      },
      "outputs": [],
      "source": [
        "from sklearn.model_selection import train_test_split\n",
        "Xtrain, Xtest, ytrain, ytest = train_test_split(X, y, test_size=0.2, stratify=y)"
      ]
    },
    {
      "cell_type": "code",
      "execution_count": null,
      "metadata": {
        "id": "lugRkqhst3ph"
      },
      "outputs": [],
      "source": [
        "Xtrain, Xval, ytrain, yval = train_test_split(Xtrain, ytrain, test_size=0.2, stratify=ytrain)"
      ]
    },
    {
      "cell_type": "code",
      "execution_count": null,
      "metadata": {
        "id": "DDctsMRf2c_w"
      },
      "outputs": [],
      "source": [
        "Xtrain = Xtrain/255.0\n",
        "Xval = Xval/255.0\n",
        "Xtest = Xtest/255.0"
      ]
    },
    {
      "cell_type": "code",
      "execution_count": null,
      "metadata": {
        "id": "heuHbxs3we59"
      },
      "outputs": [],
      "source": [
        "Xtrain.shape"
      ]
    },
    {
      "cell_type": "code",
      "execution_count": null,
      "metadata": {
        "id": "PNOxvYeMwvm4"
      },
      "outputs": [],
      "source": [
        "Xval.shape"
      ]
    },
    {
      "cell_type": "code",
      "execution_count": null,
      "metadata": {
        "id": "cmcmlsMLwxNv"
      },
      "outputs": [],
      "source": [
        "Xtest.shape"
      ]
    },
    {
      "cell_type": "code",
      "execution_count": null,
      "metadata": {
        "id": "g7-v6sQOwhIg"
      },
      "outputs": [],
      "source": [
        "Xtrain = Xtrain.reshape(89, 200*200*3)\n",
        "Xval = Xval.reshape(23, 200*200*3)\n",
        "Xtest = Xtest.reshape(28, 200*200*3)"
      ]
    },
    {
      "cell_type": "code",
      "execution_count": null,
      "metadata": {
        "id": "zEUsN0okvd9b"
      },
      "outputs": [],
      "source": [
        "from sklearn.compose import ColumnTransformer\n",
        "from sklearn.feature_selection import SelectKBest, chi2, f_classif, mutual_info_classif\n",
        "from sklearn.ensemble import RandomForestClassifier\n",
        "from sklearn.model_selection import RandomizedSearchCV, GridSearchCV, train_test_split\n",
        "from sklearn.calibration import CalibratedClassifierCV\n",
        "from sklearn.pipeline import Pipeline\n",
        "from sklearn.preprocessing import StandardScaler\n",
        "from sklearn.compose import ColumnTransformer\n",
        "from sklearn.feature_selection import SelectKBest, chi2, f_classif, mutual_info_classif\n",
        "\n",
        "\n",
        "pipe = Pipeline(\n",
        "   steps = [\n",
        "        ('step3_machinelearning', RandomForestClassifier())\n",
        "    ]\n",
        ")\n",
        "\n",
        "paramgrid = {\n",
        "\n",
        "    'step3_machinelearning__bootstrap': [True, False],#done\n",
        "    'step3_machinelearning__oob_score': [True, False],#done\n",
        "    'step3_machinelearning__warm_start': [True, False],#done\n",
        "    'step3_machinelearning__max_samples': [1.0, 0.25, 0.5, 0.75],#done\n",
        "    'step3_machinelearning__n_estimators': [10, 25, 5, 50, 100], #done\n",
        "    'step3_machinelearning__criterion': ['gini', 'entropy', 'log_loss'], #done\n",
        "    'step3_machinelearning__max_depth': [None,2,3,4,5], #done\n",
        "    'step3_machinelearning__min_samples_split': [2,5,10],#done\n",
        "    'step3_machinelearning__min_samples_leaf': [1, 2, 4],#done\n",
        "    'step3_machinelearning__max_features': [None, 'sqrt', 'log2'],#done\n",
        "    'step3_machinelearning__max_leaf_nodes': [None, 5, 10, 20],#done\n",
        "    'step3_machinelearning__min_impurity_decrease': [0.0, 0.1, 0.2],#done\n",
        "    'step3_machinelearning__ccp_alpha': [0.0, 0.1, 0.2]#done\n",
        "}\n",
        "\n",
        "# Create the GridSearchCV object\n",
        "random_search = RandomizedSearchCV(estimator=pipe, param_distributions=paramgrid, cv=5, scoring='f1_macro')\n",
        "\n",
        "# Fit the GridSearchCV to find the best hyperparameters\n",
        "random_search.fit(Xtrain, ytrain)\n",
        "\n",
        "# Print the best hyperparameters and best score\n",
        "print(\"Best Hyperparameters:\", random_search.best_params_)\n",
        "print(\"Best Score:\", random_search.best_score_)"
      ]
    },
    {
      "cell_type": "code",
      "execution_count": null,
      "metadata": {
        "id": "dNxHKndWx04p"
      },
      "outputs": [],
      "source": [
        "import pickle\n",
        "\n",
        "model = random_search.best_estimator_\n",
        "\n",
        "with open('random_forest_srk_bachchan.pkl', 'wb') as f:\n",
        "    pickle.dump(model, f)"
      ]
    }
  ],
  "metadata": {
    "colab": {
      "private_outputs": true,
      "provenance": []
    },
    "kernelspec": {
      "display_name": "Python 3",
      "name": "python3"
    },
    "language_info": {
      "codemirror_mode": {
        "name": "ipython",
        "version": 3
      },
      "file_extension": ".py",
      "mimetype": "text/x-python",
      "name": "python",
      "nbconvert_exporter": "python",
      "pygments_lexer": "ipython3",
      "version": "3.10.11"
    }
  },
  "nbformat": 4,
  "nbformat_minor": 0
}
