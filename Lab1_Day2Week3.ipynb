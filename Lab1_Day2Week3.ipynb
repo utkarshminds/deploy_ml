{
  "cells": [
    {
      "cell_type": "code",
      "execution_count": 8,
      "metadata": {
        "id": "_ipbOJr8heOl"
      },
      "outputs": [],
      "source": [
        "import pandas\n",
        "import numpy\n",
        "import matplotlib.pyplot as plt\n",
        "import sklearn\n",
        "import keras\n",
        "import os\n",
        "from PIL import Image\n",
        "import tensorflow\n",
        "from tensorflow.keras.preprocessing.image import ImageDataGenerator, load_img, img_to_array"
      ]
    },
    {
      "cell_type": "code",
      "execution_count": 17,
      "metadata": {},
      "outputs": [
        {
          "data": {
            "text/plain": [
              "'1.4.1.post1'"
            ]
          },
          "execution_count": 17,
          "metadata": {},
          "output_type": "execute_result"
        }
      ],
      "source": [
        "sklearn.__version__"
      ]
    },
    {
      "cell_type": "code",
      "execution_count": 11,
      "metadata": {
        "id": "irY4b11En_qB"
      },
      "outputs": [],
      "source": [
        "obj = ImageDataGenerator(\n",
        "    rotation_range=360,vertical_flip=True,horizontal_flip=True,zoom_range=0.3,width_shift_range=0.3,\n",
        "    height_shift_range=0.3,\n",
        "    shear_range=0.3\n",
        ")\n",
        "\n",
        "base_path_bachchan = 'bachchan'\n",
        "base_path_srk = 'srk'\n",
        "\n",
        "for path in [base_path_bachchan, base_path_srk]:\n",
        "    for filename in os.listdir(path):\n",
        "        if filename.endswith('.jpg'):\n",
        "            image_path = os.path.join(path, filename)\n",
        "            img=load_img(image_path, color_mode='rgb')\n",
        "            X = img_to_array(img)\n",
        "            X = numpy.expand_dims(X, axis=0)\n",
        "\n",
        "            i=0\n",
        "            for x in obj.flow(X, save_to_dir=path, save_format='jpg', save_prefix='aug_'):\n",
        "                i += 1\n",
        "                if i > 5:\n",
        "                 break"
      ]
    },
    {
      "cell_type": "code",
      "execution_count": 12,
      "metadata": {
        "id": "pg9i1-cqr9bA"
      },
      "outputs": [],
      "source": [
        "base_path_bachchan = 'bachchan'\n",
        "base_path_srk = 'srk'\n",
        "X = []\n",
        "y = []\n",
        "\n",
        "for path in [base_path_bachchan, base_path_srk]:\n",
        "    for filename in os.listdir(path):\n",
        "        if filename.endswith('.jpg'):\n",
        "            image_path = os.path.join(path, filename)\n",
        "            img = Image.open(image_path)\n",
        "            if img.mode == 'RGB':\n",
        "                img_resized = img.resize((200,200), Image.LANCZOS)\n",
        "            else:\n",
        "                continue\n",
        "            X.append(img_resized)\n",
        "            y.append(path)\n"
      ]
    },
    {
      "cell_type": "code",
      "execution_count": 13,
      "metadata": {
        "id": "aRYKqXFGtHFl"
      },
      "outputs": [
        {
          "name": "stdout",
          "output_type": "stream",
          "text": [
            "(139, 200, 200, 3)\n",
            "139\n"
          ]
        }
      ],
      "source": [
        "image_array = []\n",
        "for img in X:\n",
        "    image_array.append(numpy.array(img))\n",
        "\n",
        "X = numpy.array(image_array)\n",
        "print(X.shape)\n",
        "print(len(y))"
      ]
    },
    {
      "cell_type": "code",
      "execution_count": 14,
      "metadata": {
        "id": "sE6HDfdPtc_b"
      },
      "outputs": [],
      "source": [
        "from sklearn.preprocessing import LabelEncoder\n",
        "le = LabelEncoder()\n",
        "y = le.fit_transform(y)"
      ]
    },
    {
      "cell_type": "code",
      "execution_count": 20,
      "metadata": {
        "id": "801Wzi_3tsJs"
      },
      "outputs": [
        {
          "ename": "ImportError",
          "evalue": "cannot import name '_check_fit_params' from 'sklearn.utils.validation' (d:\\Python_Course\\DL\\day6-4hrs\\deploy_ml\\myenv\\lib\\site-packages\\sklearn\\utils\\validation.py)",
          "output_type": "error",
          "traceback": [
            "\u001b[1;31m---------------------------------------------------------------------------\u001b[0m",
            "\u001b[1;31mImportError\u001b[0m                               Traceback (most recent call last)",
            "Cell \u001b[1;32mIn[20], line 1\u001b[0m\n\u001b[1;32m----> 1\u001b[0m \u001b[38;5;28;01mfrom\u001b[39;00m \u001b[38;5;21;01msklearn\u001b[39;00m\u001b[38;5;21;01m.\u001b[39;00m\u001b[38;5;21;01mmodel_selection\u001b[39;00m \u001b[38;5;28;01mimport\u001b[39;00m train_test_split\n\u001b[0;32m      2\u001b[0m Xtrain, Xtest, ytrain, ytest \u001b[38;5;241m=\u001b[39m train_test_split(X, y, test_size\u001b[38;5;241m=\u001b[39m\u001b[38;5;241m0.2\u001b[39m, stratify\u001b[38;5;241m=\u001b[39my)\n",
            "File \u001b[1;32md:\\Python_Course\\DL\\day6-4hrs\\deploy_ml\\myenv\\lib\\site-packages\\sklearn\\model_selection\\__init__.py:23\u001b[0m\n\u001b[0;32m     20\u001b[0m \u001b[38;5;28;01mfrom\u001b[39;00m \u001b[38;5;21;01m.\u001b[39;00m\u001b[38;5;21;01m_split\u001b[39;00m \u001b[38;5;28;01mimport\u001b[39;00m train_test_split\n\u001b[0;32m     21\u001b[0m \u001b[38;5;28;01mfrom\u001b[39;00m \u001b[38;5;21;01m.\u001b[39;00m\u001b[38;5;21;01m_split\u001b[39;00m \u001b[38;5;28;01mimport\u001b[39;00m check_cv\n\u001b[1;32m---> 23\u001b[0m \u001b[38;5;28;01mfrom\u001b[39;00m \u001b[38;5;21;01m.\u001b[39;00m\u001b[38;5;21;01m_validation\u001b[39;00m \u001b[38;5;28;01mimport\u001b[39;00m cross_val_score\n\u001b[0;32m     24\u001b[0m \u001b[38;5;28;01mfrom\u001b[39;00m \u001b[38;5;21;01m.\u001b[39;00m\u001b[38;5;21;01m_validation\u001b[39;00m \u001b[38;5;28;01mimport\u001b[39;00m cross_val_predict\n\u001b[0;32m     25\u001b[0m \u001b[38;5;28;01mfrom\u001b[39;00m \u001b[38;5;21;01m.\u001b[39;00m\u001b[38;5;21;01m_validation\u001b[39;00m \u001b[38;5;28;01mimport\u001b[39;00m cross_validate\n",
            "File \u001b[1;32md:\\Python_Course\\DL\\day6-4hrs\\deploy_ml\\myenv\\lib\\site-packages\\sklearn\\model_selection\\_validation.py:28\u001b[0m\n\u001b[0;32m     26\u001b[0m \u001b[38;5;28;01mfrom\u001b[39;00m \u001b[38;5;21;01m.\u001b[39;00m\u001b[38;5;21;01m.\u001b[39;00m\u001b[38;5;21;01mbase\u001b[39;00m \u001b[38;5;28;01mimport\u001b[39;00m is_classifier, clone\n\u001b[0;32m     27\u001b[0m \u001b[38;5;28;01mfrom\u001b[39;00m \u001b[38;5;21;01m.\u001b[39;00m\u001b[38;5;21;01m.\u001b[39;00m\u001b[38;5;21;01mutils\u001b[39;00m \u001b[38;5;28;01mimport\u001b[39;00m indexable, check_random_state, _safe_indexing\n\u001b[1;32m---> 28\u001b[0m \u001b[38;5;28;01mfrom\u001b[39;00m \u001b[38;5;21;01m.\u001b[39;00m\u001b[38;5;21;01m.\u001b[39;00m\u001b[38;5;21;01mutils\u001b[39;00m\u001b[38;5;21;01m.\u001b[39;00m\u001b[38;5;21;01mvalidation\u001b[39;00m \u001b[38;5;28;01mimport\u001b[39;00m _check_fit_params\n\u001b[0;32m     29\u001b[0m \u001b[38;5;28;01mfrom\u001b[39;00m \u001b[38;5;21;01m.\u001b[39;00m\u001b[38;5;21;01m.\u001b[39;00m\u001b[38;5;21;01mutils\u001b[39;00m\u001b[38;5;21;01m.\u001b[39;00m\u001b[38;5;21;01mvalidation\u001b[39;00m \u001b[38;5;28;01mimport\u001b[39;00m _num_samples\n\u001b[0;32m     30\u001b[0m \u001b[38;5;28;01mfrom\u001b[39;00m \u001b[38;5;21;01m.\u001b[39;00m\u001b[38;5;21;01m.\u001b[39;00m\u001b[38;5;21;01mutils\u001b[39;00m\u001b[38;5;21;01m.\u001b[39;00m\u001b[38;5;21;01mparallel\u001b[39;00m \u001b[38;5;28;01mimport\u001b[39;00m delayed, Parallel\n",
            "\u001b[1;31mImportError\u001b[0m: cannot import name '_check_fit_params' from 'sklearn.utils.validation' (d:\\Python_Course\\DL\\day6-4hrs\\deploy_ml\\myenv\\lib\\site-packages\\sklearn\\utils\\validation.py)"
          ]
        }
      ],
      "source": [
        "from sklearn.model_selection import train_test_split\n",
        "Xtrain, Xtest, ytrain, ytest = train_test_split(X, y, test_size=0.2, stratify=y)"
      ]
    },
    {
      "cell_type": "code",
      "execution_count": null,
      "metadata": {
        "id": "lugRkqhst3ph"
      },
      "outputs": [],
      "source": [
        "Xtrain, Xval, ytrain, yval = train_test_split(Xtrain, ytrain, test_size=0.2, stratify=ytrain)"
      ]
    },
    {
      "cell_type": "code",
      "execution_count": null,
      "metadata": {
        "id": "DDctsMRf2c_w"
      },
      "outputs": [],
      "source": [
        "Xtrain = Xtrain/255.0\n",
        "Xval = Xval/255.0\n",
        "Xtest = Xtest/255.0"
      ]
    },
    {
      "cell_type": "code",
      "execution_count": null,
      "metadata": {
        "id": "heuHbxs3we59"
      },
      "outputs": [],
      "source": [
        "Xtrain.shape"
      ]
    },
    {
      "cell_type": "code",
      "execution_count": null,
      "metadata": {
        "id": "PNOxvYeMwvm4"
      },
      "outputs": [],
      "source": [
        "Xval.shape"
      ]
    },
    {
      "cell_type": "code",
      "execution_count": null,
      "metadata": {
        "id": "cmcmlsMLwxNv"
      },
      "outputs": [],
      "source": [
        "Xtest.shape"
      ]
    },
    {
      "cell_type": "code",
      "execution_count": null,
      "metadata": {
        "id": "g7-v6sQOwhIg"
      },
      "outputs": [],
      "source": [
        "Xtrain = Xtrain.reshape(89, 200*200*3)\n",
        "Xval = Xval.reshape(23, 200*200*3)\n",
        "Xtest = Xtest.reshape(28, 200*200*3)"
      ]
    },
    {
      "cell_type": "code",
      "execution_count": null,
      "metadata": {
        "id": "zEUsN0okvd9b"
      },
      "outputs": [],
      "source": [
        "from sklearn.compose import ColumnTransformer\n",
        "from sklearn.feature_selection import SelectKBest, chi2, f_classif, mutual_info_classif\n",
        "from sklearn.ensemble import RandomForestClassifier\n",
        "from sklearn.model_selection import RandomizedSearchCV, GridSearchCV, train_test_split\n",
        "from sklearn.calibration import CalibratedClassifierCV\n",
        "from sklearn.pipeline import Pipeline\n",
        "from sklearn.preprocessing import StandardScaler\n",
        "from sklearn.compose import ColumnTransformer\n",
        "from sklearn.feature_selection import SelectKBest, chi2, f_classif, mutual_info_classif\n",
        "\n",
        "\n",
        "pipe = Pipeline(\n",
        "   steps = [\n",
        "        ('step3_machinelearning', RandomForestClassifier())\n",
        "    ]\n",
        ")\n",
        "\n",
        "paramgrid = {\n",
        "\n",
        "    'step3_machinelearning__bootstrap': [True, False],#done\n",
        "    'step3_machinelearning__oob_score': [True, False],#done\n",
        "    'step3_machinelearning__warm_start': [True, False],#done\n",
        "    'step3_machinelearning__max_samples': [1.0, 0.25, 0.5, 0.75],#done\n",
        "    'step3_machinelearning__n_estimators': [10, 25, 5, 50, 100], #done\n",
        "    'step3_machinelearning__criterion': ['gini', 'entropy', 'log_loss'], #done\n",
        "    'step3_machinelearning__max_depth': [None,2,3,4,5], #done\n",
        "    'step3_machinelearning__min_samples_split': [2,5,10],#done\n",
        "    'step3_machinelearning__min_samples_leaf': [1, 2, 4],#done\n",
        "    'step3_machinelearning__max_features': [None, 'sqrt', 'log2'],#done\n",
        "    'step3_machinelearning__max_leaf_nodes': [None, 5, 10, 20],#done\n",
        "    'step3_machinelearning__min_impurity_decrease': [0.0, 0.1, 0.2],#done\n",
        "    'step3_machinelearning__ccp_alpha': [0.0, 0.1, 0.2]#done\n",
        "}\n",
        "\n",
        "# Create the GridSearchCV object\n",
        "random_search = RandomizedSearchCV(estimator=pipe, param_distributions=paramgrid, cv=5, scoring='f1_macro')\n",
        "\n",
        "# Fit the GridSearchCV to find the best hyperparameters\n",
        "random_search.fit(Xtrain, ytrain)\n",
        "\n",
        "# Print the best hyperparameters and best score\n",
        "print(\"Best Hyperparameters:\", random_search.best_params_)\n",
        "print(\"Best Score:\", random_search.best_score_)"
      ]
    },
    {
      "cell_type": "code",
      "execution_count": null,
      "metadata": {
        "id": "dNxHKndWx04p"
      },
      "outputs": [],
      "source": [
        "import pickle\n",
        "\n",
        "model = random_search.best_estimator_\n",
        "\n",
        "with open('random_forest_srk_bachchan.pkl', 'wb') as f:\n",
        "    pickle.dump(model, f)"
      ]
    }
  ],
  "metadata": {
    "colab": {
      "private_outputs": true,
      "provenance": []
    },
    "kernelspec": {
      "display_name": "Python 3",
      "name": "python3"
    },
    "language_info": {
      "codemirror_mode": {
        "name": "ipython",
        "version": 3
      },
      "file_extension": ".py",
      "mimetype": "text/x-python",
      "name": "python",
      "nbconvert_exporter": "python",
      "pygments_lexer": "ipython3",
      "version": "3.10.11"
    }
  },
  "nbformat": 4,
  "nbformat_minor": 0
}
